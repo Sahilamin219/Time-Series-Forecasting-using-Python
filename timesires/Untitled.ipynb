{
 "cells": [
  {
   "cell_type": "code",
   "execution_count": 4,
   "metadata": {},
   "outputs": [],
   "source": [
    "import pandas as pd          \n",
    "import numpy as np          # For mathematical calculations \n",
    "import matplotlib.pyplot as plt  # For plotting graphs \n",
    "from datetime import datetime    # To access datetime \n",
    "from pandas import Series        # To work on series \n",
    "%matplotlib inline \n",
    "import warnings                   # To ignore the warnings warnings.filterwarnings(\"ignore\")\n",
    "\n",
    "# Now let’s read the train and test data\n",
    "\n",
    "train=pd.read_csv(\"Train_SU63ISt.csv\") \n",
    "test=pd.read_csv(\"Test_0qrQsBZ.csv\")\n",
    "\n",
    "# Let’s make a copy of train and test data so that even if we do changes in these dataset we do not lose the original dataset.\n",
    "\n",
    "train_original=train.copy() \n",
    "test_original=test.copy()"
   ]
  },
  {
   "cell_type": "code",
   "execution_count": null,
   "metadata": {},
   "outputs": [],
   "source": []
  },
  {
   "cell_type": "code",
   "execution_count": null,
   "metadata": {},
   "outputs": [],
   "source": []
  }
 ],
 "metadata": {
  "kernelspec": {
   "display_name": "Python 3",
   "language": "python",
   "name": "python3"
  },
  "language_info": {
   "codemirror_mode": {
    "name": "ipython",
    "version": 3
   },
   "file_extension": ".py",
   "mimetype": "text/x-python",
   "name": "python",
   "nbconvert_exporter": "python",
   "pygments_lexer": "ipython3",
   "version": "3.6.8"
  }
 },
 "nbformat": 4,
 "nbformat_minor": 2
}
